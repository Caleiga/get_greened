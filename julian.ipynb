{
 "cells": [
  {
   "cell_type": "code",
   "execution_count": 35,
   "metadata": {},
   "outputs": [
    {
     "name": "stdout",
     "output_type": "stream",
     "text": [
      "['Duration (in seconds)' 'UserLanguage' 'participant_number' 'age'\n",
      " 'gender' 'ethnicity' 'political_orientation' 'political_orientation_text'\n",
      " 'achieved_education' 'achieved_education_text' 'bothered_pre'\n",
      " 'uneasy_pre' 'uncomfortable_pre' 'C_time_alone' 'C_academic_performance'\n",
      " 'T_time_alone' 'T_academic_performance' 'value_activation'\n",
      " 'bothered_post' 'uneasy_post' 'uncomfortable_post' 'sandwich' 'diet'\n",
      " 'diet_text' 'reason_for_choice' 'labels_attention' 'feeling_observed'\n",
      " 'did_value_activation_affect_choice']\n",
      "(18, 28)\n"
     ]
    }
   ],
   "source": [
    "import numpy as np\n",
    "from data_named import data\n",
    "import matplotlib.pyplot as plt\n",
    "from sklearn.linear_model import LogisticRegression\n",
    "\n",
    "print(data.columns.values)\n",
    "print(data.shape)"
   ]
  },
  {
   "attachments": {},
   "cell_type": "markdown",
   "metadata": {},
   "source": [
    "![alternative text](med_analysis.png)"
   ]
  },
  {
   "attachments": {},
   "cell_type": "markdown",
   "metadata": {},
   "source": [
    "From Rijnhart & Al. 2023 using their equations:"
   ]
  },
  {
   "attachments": {},
   "cell_type": "markdown",
   "metadata": {},
   "source": [
    "![alternative text](med_analysis_eq.png)"
   ]
  },
  {
   "attachments": {},
   "cell_type": "markdown",
   "metadata": {},
   "source": [
    "Mediation Analysis Part 1 (eq. 1)"
   ]
  },
  {
   "cell_type": "code",
   "execution_count": 19,
   "metadata": {},
   "outputs": [
    {
     "name": "stdout",
     "output_type": "stream",
     "text": [
      "Intercept : -0.3130665241541008, Coef. : 0.5957788357720568\n"
     ]
    }
   ],
   "source": [
    "#data = data.drop(['Duration (in seconds)', 'UserLanguage', 'political_orientation_text', ], axis=1)\n",
    "\n",
    "sandwiches = data['sandwich'].to_numpy()\n",
    "Y = np.where(sandwiches < 3, 1, -1)\n",
    "\n",
    "participant_nb = data['participant_number'].to_numpy()\n",
    "x = np.where(participant_nb > 70, 1, -1)\n",
    "\n",
    "logreg = LogisticRegression()\n",
    "logreg.fit(x.reshape(-1, 1), Y)\n",
    "\n",
    "a = logreg.intercept_[0]\n",
    "b = logreg.coef_[0][0]\n",
    "\n",
    "print(\"Intercept : \" + str(a) + \", Coef. : \" + str(b))"
   ]
  },
  {
   "attachments": {},
   "cell_type": "markdown",
   "metadata": {},
   "source": [
    "Mediation Analysis Part 2 (eq. 2)"
   ]
  },
  {
   "cell_type": "code",
   "execution_count": 27,
   "metadata": {},
   "outputs": [
    {
     "name": "stdout",
     "output_type": "stream",
     "text": [
      "Bothered (M1)\n",
      "Intercept : -0.3364950388496827, Coef. : 0.2622532842846421\n",
      "\n",
      "Uneasy (M2)\n",
      "Intercept : -0.23982866589368165, Coef. : 0.46631417967444866\n",
      "\n",
      "Uncomfortable (M3)\n",
      "Intercept : -0.36619944920871833, Coef. : 0.4341941225620249\n"
     ]
    }
   ],
   "source": [
    "M1 = data['bothered_post'].to_numpy() - data['bothered_pre'].to_numpy()\n",
    "M2 = data['uneasy_post'].to_numpy() - data['uneasy_pre'].to_numpy()\n",
    "M3 = data['uncomfortable_post'].to_numpy() - data['uncomfortable_pre'].to_numpy()\n",
    "\n",
    "logreg.fit(x.reshape(-1, 1), M1)\n",
    "a1 = logreg.intercept_[0]\n",
    "b1 = logreg.coef_[0][0]\n",
    "\n",
    "logreg.fit(x.reshape(-1, 1), M2)\n",
    "a2 = logreg.intercept_[0]\n",
    "b2 = logreg.coef_[0][0]\n",
    "\n",
    "logreg.fit(x.reshape(-1, 1), M3)\n",
    "a3 = logreg.intercept_[0]\n",
    "b3 = logreg.coef_[0][0]\n",
    "\n",
    "print(\"Bothered (M1)\")\n",
    "print(\"Intercept : \" + str(a1) + \", Coef. : \" + str(b1))\n",
    "print()\n",
    "print(\"Uneasy (M2)\")\n",
    "print(\"Intercept : \" + str(a2) + \", Coef. : \" + str(b2))\n",
    "print()\n",
    "print(\"Uncomfortable (M3)\")\n",
    "print(\"Intercept : \" + str(a3) + \", Coef. : \" + str(b3))"
   ]
  },
  {
   "attachments": {},
   "cell_type": "markdown",
   "metadata": {},
   "source": [
    "Mediation Analysis Part 3 (eq. 3)"
   ]
  },
  {
   "cell_type": "code",
   "execution_count": 29,
   "metadata": {},
   "outputs": [
    {
     "name": "stdout",
     "output_type": "stream",
     "text": [
      "Intercept: [-0.43147906]\n",
      "Coefficients:\n",
      "VA (x): 0.46434185079174545\n",
      "Bothered (M1): 0.08455677845224968\n",
      "Uneasy (M2): 0.09401341487460245\n",
      "Uncomfortable (M3): 0.018430097659608763\n"
     ]
    }
   ],
   "source": [
    "X = np.column_stack((x, M1, M2, M3))\n",
    "\n",
    "logreg.fit(X, Y)\n",
    "\n",
    "intercept = logreg.intercept_\n",
    "coefficients = logreg.coef_\n",
    "\n",
    "print(\"Intercept:\", intercept)\n",
    "print(\"Coefficients:\")\n",
    "print(\"VA (x):\", coefficients[0][0])\n",
    "print(\"Bothered (M1):\", coefficients[0][1])\n",
    "print(\"Uneasy (M2):\", coefficients[0][2])\n",
    "print(\"Uncomfortable (M3):\", coefficients[0][3])\n"
   ]
  }
 ],
 "metadata": {
  "kernelspec": {
   "display_name": "NX",
   "language": "python",
   "name": "python3"
  },
  "language_info": {
   "codemirror_mode": {
    "name": "ipython",
    "version": 3
   },
   "file_extension": ".py",
   "mimetype": "text/x-python",
   "name": "python",
   "nbconvert_exporter": "python",
   "pygments_lexer": "ipython3",
   "version": "3.10.9"
  },
  "orig_nbformat": 4
 },
 "nbformat": 4,
 "nbformat_minor": 2
}
