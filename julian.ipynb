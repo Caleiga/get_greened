{
 "cells": [
  {
   "cell_type": "code",
   "execution_count": 4,
   "metadata": {},
   "outputs": [
    {
     "name": "stdout",
     "output_type": "stream",
     "text": [
      "['Duration (in seconds)' 'UserLanguage' 'participant_number' 'age'\n",
      " 'gender' 'ethnicity' 'political_orientation' 'political_orientation_text'\n",
      " 'achieved_education' 'achieved_education_text' 'bothered_pre'\n",
      " 'uneasy_pre' 'uncomfortable_pre' 'C_time_alone' 'C_academic_performance'\n",
      " 'T_time_alone' 'T_academic_performance' 'value_activation'\n",
      " 'bothered_post' 'uneasy_post' 'uncomfortable_post' 'sandwich' 'diet'\n",
      " 'diet_text' 'reason_for_choice' 'labels_attention' 'feeling_observed'\n",
      " 'did_value_activation_affect_choice']\n",
      "(18, 28)\n"
     ]
    }
   ],
   "source": [
    "import numpy as np\n",
    "from data_named import data\n",
    "import matplotlib.pyplot as plt\n",
    "import statsmodels.api as sm\n",
    "\n",
    "print(data.columns.values)\n",
    "print(data.shape)"
   ]
  },
  {
   "attachments": {},
   "cell_type": "markdown",
   "metadata": {},
   "source": [
    "![alternative text](med_analysis.png)"
   ]
  },
  {
   "attachments": {},
   "cell_type": "markdown",
   "metadata": {},
   "source": [
    "From Rijnhart & Al. 2023 using their equations:"
   ]
  },
  {
   "attachments": {},
   "cell_type": "markdown",
   "metadata": {},
   "source": [
    "![alternative text](med_analysis_eq.png)"
   ]
  },
  {
   "attachments": {},
   "cell_type": "markdown",
   "metadata": {},
   "source": [
    "Mediation Analysis Part 1 (eq. 1)"
   ]
  },
  {
   "cell_type": "code",
   "execution_count": 5,
   "metadata": {},
   "outputs": [
    {
     "name": "stdout",
     "output_type": "stream",
     "text": [
      "Optimization terminated successfully.\n",
      "         Current function value: 0.623822\n",
      "         Iterations 5\n",
      "                           Logit Regression Results                           \n",
      "==============================================================================\n",
      "Dep. Variable:                      y   No. Observations:                   18\n",
      "Model:                          Logit   Df Residuals:                       16\n",
      "Method:                           MLE   Df Model:                            1\n",
      "Date:                Wed, 24 May 2023   Pseudo R-squ.:                 0.09191\n",
      "Time:                        16:35:22   Log-Likelihood:                -11.229\n",
      "converged:                       True   LL-Null:                       -12.365\n",
      "Covariance Type:            nonrobust   LLR p-value:                    0.1316\n",
      "==============================================================================\n",
      "                 coef    std err          z      P>|z|      [0.025      0.975]\n",
      "------------------------------------------------------------------------------\n",
      "const         -1.0986      0.816     -1.346      0.178      -2.699       0.502\n",
      "x1             1.5041      1.041      1.445      0.148      -0.536       3.544\n",
      "==============================================================================\n"
     ]
    }
   ],
   "source": [
    "participant_nb = data['participant_number'].to_numpy()\n",
    "x = np.where(participant_nb > 70, 1, 0)\n",
    "\n",
    "sandwiches = data['sandwich'].to_numpy()\n",
    "Y = np.where(sandwiches < 3, 1, 0)\n",
    "\n",
    "X = sm.add_constant(x)\n",
    "\n",
    "logit_model = sm.Logit(Y, X)\n",
    "result = logit_model.fit()\n",
    "\n",
    "print(result.summary())"
   ]
  },
  {
   "attachments": {},
   "cell_type": "markdown",
   "metadata": {},
   "source": [
    "Mediation Analysis Part 2 (eq. 2)"
   ]
  },
  {
   "cell_type": "code",
   "execution_count": 6,
   "metadata": {},
   "outputs": [
    {
     "name": "stdout",
     "output_type": "stream",
     "text": [
      "                            OLS Regression Results                            \n",
      "==============================================================================\n",
      "Dep. Variable:                      y   R-squared:                       0.041\n",
      "Model:                            OLS   Adj. R-squared:                 -0.019\n",
      "Method:                 Least Squares   F-statistic:                    0.6777\n",
      "Date:                Wed, 24 May 2023   Prob (F-statistic):              0.422\n",
      "Time:                        16:35:25   Log-Likelihood:                -93.755\n",
      "No. Observations:                  18   AIC:                             191.5\n",
      "Df Residuals:                      16   BIC:                             193.3\n",
      "Df Model:                           1                                         \n",
      "Covariance Type:            nonrobust                                         \n",
      "==============================================================================\n",
      "                 coef    std err          t      P>|t|      [0.025      0.975]\n",
      "------------------------------------------------------------------------------\n",
      "const         12.5375     11.130      1.126      0.277     -11.056      36.131\n",
      "x1             9.1625     11.130      0.823      0.422     -14.431      32.756\n",
      "==============================================================================\n",
      "Omnibus:                       15.794   Durbin-Watson:                   1.834\n",
      "Prob(Omnibus):                  0.000   Jarque-Bera (JB):               15.309\n",
      "Skew:                           1.568   Prob(JB):                     0.000474\n",
      "Kurtosis:                       6.252   Cond. No.                         1.12\n",
      "==============================================================================\n",
      "\n",
      "Notes:\n",
      "[1] Standard Errors assume that the covariance matrix of the errors is correctly specified.\n",
      "[0.27656912 0.42246713]\n"
     ]
    },
    {
     "name": "stderr",
     "output_type": "stream",
     "text": [
      "C:\\Users\\lucil\\anaconda3\\envs\\ML\\lib\\site-packages\\scipy\\stats\\_stats_py.py:1736: UserWarning: kurtosistest only valid for n>=20 ... continuing anyway, n=18\n",
      "  warnings.warn(\"kurtosistest only valid for n>=20 ... continuing \"\n"
     ]
    }
   ],
   "source": [
    "M1 = data['bothered_post'].to_numpy() - data['bothered_pre'].to_numpy()\n",
    "M2 = data['uneasy_post'].to_numpy() - data['uneasy_pre'].to_numpy()\n",
    "M3 = data['uncomfortable_post'].to_numpy() - data['uncomfortable_pre'].to_numpy()\n",
    "\n",
    "M = M1 + M2 + M3\n",
    "\n",
    "participant_nb = data['participant_number'].to_numpy()\n",
    "x_no_zeros = np.where(participant_nb > 70, 1, -1)\n",
    "X_no_zeros = sm.add_constant(x_no_zeros)\n",
    "\n",
    "linear_model = sm.OLS(M, X_no_zeros)\n",
    "result = linear_model.fit()\n",
    "\n",
    "print(result.summary())\n",
    "print(result.pvalues)"
   ]
  },
  {
   "attachments": {},
   "cell_type": "markdown",
   "metadata": {},
   "source": [
    "Mediation Analysis Part 3 (eq. 3)"
   ]
  },
  {
   "cell_type": "code",
   "execution_count": 7,
   "metadata": {},
   "outputs": [
    {
     "name": "stdout",
     "output_type": "stream",
     "text": [
      "Optimization terminated successfully.\n",
      "         Current function value: 0.482367\n",
      "         Iterations 8\n",
      "                           Logit Regression Results                           \n",
      "==============================================================================\n",
      "Dep. Variable:                      y   No. Observations:                   18\n",
      "Model:                          Logit   Df Residuals:                       15\n",
      "Method:                           MLE   Df Model:                            2\n",
      "Date:                Wed, 24 May 2023   Pseudo R-squ.:                  0.2978\n",
      "Time:                        16:36:16   Log-Likelihood:                -8.6826\n",
      "converged:                       True   LL-Null:                       -12.365\n",
      "Covariance Type:            nonrobust   LLR p-value:                   0.02515\n",
      "==============================================================================\n",
      "                 coef    std err          z      P>|z|      [0.025      0.975]\n",
      "------------------------------------------------------------------------------\n",
      "const         -1.4400      0.920     -1.565      0.118      -3.243       0.363\n",
      "x1             1.5791      1.207      1.308      0.191      -0.787       3.946\n",
      "x2             0.0660      0.050      1.312      0.189      -0.033       0.165\n",
      "==============================================================================\n",
      "[0.11750478 0.19092878 0.18941626]\n"
     ]
    }
   ],
   "source": [
    "X = np.column_stack((x, M))\n",
    "\n",
    "X = sm.add_constant(X)\n",
    "\n",
    "logit_model = sm.Logit(Y, X)\n",
    "result = logit_model.fit()\n",
    "\n",
    "print(result.summary())\n",
    "print(result.pvalues)"
   ]
  }
 ],
 "metadata": {
  "kernelspec": {
   "display_name": "NX",
   "language": "python",
   "name": "python3"
  },
  "language_info": {
   "codemirror_mode": {
    "name": "ipython",
    "version": 3
   },
   "file_extension": ".py",
   "mimetype": "text/x-python",
   "name": "python",
   "nbconvert_exporter": "python",
   "pygments_lexer": "ipython3",
   "version": "3.10.9"
  },
  "orig_nbformat": 4
 },
 "nbformat": 4,
 "nbformat_minor": 2
}
