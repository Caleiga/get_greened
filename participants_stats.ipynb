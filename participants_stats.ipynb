{
 "cells": [
  {
   "cell_type": "code",
   "execution_count": 5,
   "metadata": {
    "collapsed": true
   },
   "outputs": [],
   "source": [
    "from data_named import data\n",
    "import matplotlib.pyplot as plt\n",
    "import numpy as np"
   ]
  },
  {
   "cell_type": "code",
   "execution_count": 6,
   "outputs": [
    {
     "data": {
      "text/plain": "   Duration (in seconds) UserLanguage  participant_number  age  gender  \\\n1                   2522           FR                  59   24       2   \n4                   1291           EN                 106   22       1   \n6                   2915           EN                  52   21       2   \n8                   5843           FR                 137   21       2   \n9                   1030           FR                 109   22       2   \n\n   ethnicity  political_orientation political_orientation_text  \\\n1          2                      3                        NaN   \n4          1                      1                        NaN   \n6          1                      1                        NaN   \n8          1                      2                        NaN   \n9          1                      2                        NaN   \n\n   achieved_education achieved_education_text  ...  bothered_post  \\\n1                   3                     NaN  ...              0   \n4                   3                     NaN  ...             90   \n6                   2                     NaN  ...              0   \n8                   3                     NaN  ...              3   \n9                   3                     NaN  ...              0   \n\n   uneasy_post  uncomfortable_post sandwich diet diet_text  \\\n1            0                   0        1    3       NaN   \n4           90                  46        1    3       NaN   \n6            0                  37        3    3       NaN   \n8            5                   4        3    3       NaN   \n9            0                   0        1    3       NaN   \n\n                                   reason_for_choice labels_attention  \\\n1  j'aime le pesto; j'aime les légumes; sandwich ...                1   \n4  Because I had just said that I care about CO2 ...                1   \n6  I like ham and cheese; and the pesto one seeme...                1   \n8                       J'avais une envie de jambon                 1   \n9                il avait l'air bon j'adore le pesto                1   \n\n   feeling_observed  did_value_activation_affect_choice  \n1                 2                             control  \n4                 1                                 1.0  \n6                 2                             control  \n8                 2                                 2.0  \n9                 2                                 2.0  \n\n[5 rows x 28 columns]",
      "text/html": "<div>\n<style scoped>\n    .dataframe tbody tr th:only-of-type {\n        vertical-align: middle;\n    }\n\n    .dataframe tbody tr th {\n        vertical-align: top;\n    }\n\n    .dataframe thead th {\n        text-align: right;\n    }\n</style>\n<table border=\"1\" class=\"dataframe\">\n  <thead>\n    <tr style=\"text-align: right;\">\n      <th></th>\n      <th>Duration (in seconds)</th>\n      <th>UserLanguage</th>\n      <th>participant_number</th>\n      <th>age</th>\n      <th>gender</th>\n      <th>ethnicity</th>\n      <th>political_orientation</th>\n      <th>political_orientation_text</th>\n      <th>achieved_education</th>\n      <th>achieved_education_text</th>\n      <th>...</th>\n      <th>bothered_post</th>\n      <th>uneasy_post</th>\n      <th>uncomfortable_post</th>\n      <th>sandwich</th>\n      <th>diet</th>\n      <th>diet_text</th>\n      <th>reason_for_choice</th>\n      <th>labels_attention</th>\n      <th>feeling_observed</th>\n      <th>did_value_activation_affect_choice</th>\n    </tr>\n  </thead>\n  <tbody>\n    <tr>\n      <th>1</th>\n      <td>2522</td>\n      <td>FR</td>\n      <td>59</td>\n      <td>24</td>\n      <td>2</td>\n      <td>2</td>\n      <td>3</td>\n      <td>NaN</td>\n      <td>3</td>\n      <td>NaN</td>\n      <td>...</td>\n      <td>0</td>\n      <td>0</td>\n      <td>0</td>\n      <td>1</td>\n      <td>3</td>\n      <td>NaN</td>\n      <td>j'aime le pesto; j'aime les légumes; sandwich ...</td>\n      <td>1</td>\n      <td>2</td>\n      <td>control</td>\n    </tr>\n    <tr>\n      <th>4</th>\n      <td>1291</td>\n      <td>EN</td>\n      <td>106</td>\n      <td>22</td>\n      <td>1</td>\n      <td>1</td>\n      <td>1</td>\n      <td>NaN</td>\n      <td>3</td>\n      <td>NaN</td>\n      <td>...</td>\n      <td>90</td>\n      <td>90</td>\n      <td>46</td>\n      <td>1</td>\n      <td>3</td>\n      <td>NaN</td>\n      <td>Because I had just said that I care about CO2 ...</td>\n      <td>1</td>\n      <td>1</td>\n      <td>1.0</td>\n    </tr>\n    <tr>\n      <th>6</th>\n      <td>2915</td>\n      <td>EN</td>\n      <td>52</td>\n      <td>21</td>\n      <td>2</td>\n      <td>1</td>\n      <td>1</td>\n      <td>NaN</td>\n      <td>2</td>\n      <td>NaN</td>\n      <td>...</td>\n      <td>0</td>\n      <td>0</td>\n      <td>37</td>\n      <td>3</td>\n      <td>3</td>\n      <td>NaN</td>\n      <td>I like ham and cheese; and the pesto one seeme...</td>\n      <td>1</td>\n      <td>2</td>\n      <td>control</td>\n    </tr>\n    <tr>\n      <th>8</th>\n      <td>5843</td>\n      <td>FR</td>\n      <td>137</td>\n      <td>21</td>\n      <td>2</td>\n      <td>1</td>\n      <td>2</td>\n      <td>NaN</td>\n      <td>3</td>\n      <td>NaN</td>\n      <td>...</td>\n      <td>3</td>\n      <td>5</td>\n      <td>4</td>\n      <td>3</td>\n      <td>3</td>\n      <td>NaN</td>\n      <td>J'avais une envie de jambon</td>\n      <td>1</td>\n      <td>2</td>\n      <td>2.0</td>\n    </tr>\n    <tr>\n      <th>9</th>\n      <td>1030</td>\n      <td>FR</td>\n      <td>109</td>\n      <td>22</td>\n      <td>2</td>\n      <td>1</td>\n      <td>2</td>\n      <td>NaN</td>\n      <td>3</td>\n      <td>NaN</td>\n      <td>...</td>\n      <td>0</td>\n      <td>0</td>\n      <td>0</td>\n      <td>1</td>\n      <td>3</td>\n      <td>NaN</td>\n      <td>il avait l'air bon j'adore le pesto</td>\n      <td>1</td>\n      <td>2</td>\n      <td>2.0</td>\n    </tr>\n  </tbody>\n</table>\n<p>5 rows × 28 columns</p>\n</div>"
     },
     "execution_count": 6,
     "metadata": {},
     "output_type": "execute_result"
    }
   ],
   "source": [
    "data.head()"
   ],
   "metadata": {
    "collapsed": false
   }
  },
  {
   "cell_type": "markdown",
   "source": [
    "## Data stats for all participants"
   ],
   "metadata": {
    "collapsed": false
   }
  },
  {
   "cell_type": "code",
   "execution_count": 7,
   "outputs": [
    {
     "name": "stdout",
     "output_type": "stream",
     "text": [
      "GENDER\n",
      "number of women: 10\n",
      "number of men: 8\n",
      "CONTROL VS VA\n",
      "number of control participants: 8\n",
      "number of tested participants: 10\n",
      "POLITICAL ORIENTATION\n",
      "number of left-leaning participants: 7\n",
      "number of right-leaning participants: 3\n",
      "number of centrists participants: 6\n",
      "number of participants with no political orientations: 2\n",
      "ETHNICITY\n",
      "number of white participants: 16\n",
      "number of hispanic/latino participants: 1\n",
      "number of asian participants: 1\n",
      "EDUCATION\n",
      "number of participants with a high school diploma: 4\n",
      "number of participants with a bachelor diploma: 12\n",
      "number of participants with a master diploma: 2\n"
     ]
    }
   ],
   "source": [
    "print(\"GENDER\")\n",
    "n_men = sum(data[\"gender\"] == 1)\n",
    "n_women = sum(data[\"gender\"] == 2)\n",
    "print(\"number of women: \" + str(n_women))\n",
    "print(\"number of men: \" + str(n_men))\n",
    "print(\"CONTROL VS VA\")\n",
    "n_control = sum(data[\"participant_number\"]<=70)\n",
    "n_VA = sum(data[\"participant_number\"]>70)\n",
    "print(\"number of control participants: \" + str(n_control))\n",
    "print(\"number of tested participants: \" + str(n_VA))\n",
    "print(\"POLITICAL ORIENTATION\")\n",
    "n_left = sum(data[\"political_orientation\"] == 1)\n",
    "n_center = sum(data[\"political_orientation\"] == 2)\n",
    "n_right = sum(data[\"political_orientation\"] == 3)\n",
    "n_other = sum(data[\"political_orientation\"] == 4)\n",
    "print(\"number of left-leaning participants: \" + str(n_left))\n",
    "print(\"number of right-leaning participants: \" + str(n_right))\n",
    "print(\"number of centrists participants: \" + str(n_center))\n",
    "print(\"number of participants with no political orientations: \" + str(n_other))\n",
    "print(\"ETHNICITY\")\n",
    "n_white = sum(data[\"ethnicity\"] == 1)\n",
    "n_latino = sum(data[\"ethnicity\"] == 2)\n",
    "n_asian = sum(data[\"ethnicity\"] == 3)\n",
    "print(\"number of white participants: \" + str(n_white))\n",
    "print(\"number of hispanic/latino participants: \" + str(n_latino))\n",
    "print(\"number of asian participants: \" + str(n_asian))\n",
    "print(\"EDUCATION\")\n",
    "n_high_school = sum(data[\"achieved_education\"] == 2)\n",
    "n_bachelor = sum(data[\"achieved_education\"] == 3)\n",
    "n_master = sum(data[\"achieved_education\"] == 4)\n",
    "n_other = sum(data[\"achieved_education\"] == 8)\n",
    "n_high_school = n_high_school + n_other\n",
    "print(\"number of participants with a high school diploma: \" + str(n_high_school))\n",
    "print(\"number of participants with a bachelor diploma: \" + str(n_bachelor))\n",
    "print(\"number of participants with a master diploma: \" + str(n_master))"
   ],
   "metadata": {
    "collapsed": false
   }
  },
  {
   "cell_type": "code",
   "execution_count": 8,
   "outputs": [
    {
     "data": {
      "text/plain": "count    18.000000\nmean     23.333333\nstd       2.376354\nmin      21.000000\n25%      22.000000\n50%      23.000000\n75%      24.000000\nmax      31.000000\nName: age, dtype: float64"
     },
     "execution_count": 8,
     "metadata": {},
     "output_type": "execute_result"
    }
   ],
   "source": [
    "data.age.describe()"
   ],
   "metadata": {
    "collapsed": false
   }
  },
  {
   "cell_type": "markdown",
   "source": [
    "## Data stats in control vs test groups"
   ],
   "metadata": {
    "collapsed": false
   }
  },
  {
   "cell_type": "code",
   "execution_count": 9,
   "outputs": [],
   "source": [
    "test = data.drop(data.index[data.participant_number <= 70])\n",
    "control = data.drop(data.index[data.participant_number > 70])"
   ],
   "metadata": {
    "collapsed": false
   }
  },
  {
   "cell_type": "code",
   "execution_count": 10,
   "outputs": [
    {
     "name": "stdout",
     "output_type": "stream",
     "text": [
      "GENDER\n",
      "number of women in test: 5\n",
      "number of men in test: 5\n",
      "POLITICAL ORIENTATION\n",
      "number of left-leaning participants in test: 3\n",
      "number of right-leaning participants in test: 1\n",
      "number of centrists participants in test: 5\n",
      "number of participants with no political orientations in test: 1\n",
      "ETHNICITY\n",
      "number of white participants in test: 9\n",
      "number of hispanic/latino participants in test: 0\n",
      "number of asian participants in test: 1\n",
      "EDUCATION\n",
      "number of participants with a high school diploma in test: 2\n",
      "number of participants with a bachelor diploma in test: 6\n",
      "number of participants with a master diploma in test: 2\n"
     ]
    }
   ],
   "source": [
    "print(\"GENDER\")\n",
    "n_men = sum(test[\"gender\"] == 1)\n",
    "n_women = sum(test[\"gender\"] == 2)\n",
    "print(\"number of women in test: \" + str(n_women))\n",
    "print(\"number of men in test: \" + str(n_men))\n",
    "print(\"POLITICAL ORIENTATION\")\n",
    "n_left = sum(test[\"political_orientation\"] == 1)\n",
    "n_center = sum(test[\"political_orientation\"] == 2)\n",
    "n_right = sum(test[\"political_orientation\"] == 3)\n",
    "n_other = sum(test[\"political_orientation\"] == 4)\n",
    "print(\"number of left-leaning participants in test: \" + str(n_left))\n",
    "print(\"number of right-leaning participants in test: \" + str(n_right))\n",
    "print(\"number of centrists participants in test: \" + str(n_center))\n",
    "print(\"number of participants with no political orientations in test: \" + str(n_other))\n",
    "print(\"ETHNICITY\")\n",
    "n_white = sum(test[\"ethnicity\"] == 1)\n",
    "n_latino = sum(test[\"ethnicity\"] == 2)\n",
    "n_asian = sum(test[\"ethnicity\"] == 3)\n",
    "print(\"number of white participants in test: \" + str(n_white))\n",
    "print(\"number of hispanic/latino participants in test: \" + str(n_latino))\n",
    "print(\"number of asian participants in test: \" + str(n_asian))\n",
    "print(\"EDUCATION\")\n",
    "n_high_school = sum(test[\"achieved_education\"] == 2)\n",
    "n_bachelor = sum(test[\"achieved_education\"] == 3)\n",
    "n_master = sum(test[\"achieved_education\"] == 4)\n",
    "n_other = sum(test[\"achieved_education\"] == 8)\n",
    "n_high_school = n_high_school + n_other\n",
    "print(\"number of participants with a high school diploma in test: \" + str(n_high_school))\n",
    "print(\"number of participants with a bachelor diploma in test: \" + str(n_bachelor))\n",
    "print(\"number of participants with a master diploma in test: \" + str(n_master))"
   ],
   "metadata": {
    "collapsed": false
   }
  },
  {
   "cell_type": "code",
   "execution_count": 11,
   "outputs": [
    {
     "name": "stdout",
     "output_type": "stream",
     "text": [
      "GENDER\n",
      "number of women in control: 5\n",
      "number of men in control: 3\n",
      "POLITICAL ORIENTATION\n",
      "number of left-leaning participants in control: 4\n",
      "number of right-leaning participants in control: 2\n",
      "number of centrists participants in control: 1\n",
      "number of participants with no political orientations in control: 1\n",
      "ETHNICITY\n",
      "number of white participants in control: 7\n",
      "number of hispanic/latino participants in control: 1\n",
      "number of asian participants in control: 0\n",
      "EDUCATION\n",
      "number of participants with a high school diploma in control: 2\n",
      "number of participants with a bachelor diploma in control: 6\n",
      "number of participants with a master diploma in control: 0\n"
     ]
    }
   ],
   "source": [
    "print(\"GENDER\")\n",
    "n_men = sum(control[\"gender\"] == 1)\n",
    "n_women = sum(control[\"gender\"] == 2)\n",
    "print(\"number of women in control: \" + str(n_women))\n",
    "print(\"number of men in control: \" + str(n_men))\n",
    "print(\"POLITICAL ORIENTATION\")\n",
    "n_left = sum(control[\"political_orientation\"] == 1)\n",
    "n_center = sum(control[\"political_orientation\"] == 2)\n",
    "n_right = sum(control[\"political_orientation\"] == 3)\n",
    "n_other = sum(control[\"political_orientation\"] == 4)\n",
    "print(\"number of left-leaning participants in control: \" + str(n_left))\n",
    "print(\"number of right-leaning participants in control: \" + str(n_right))\n",
    "print(\"number of centrists participants in control: \" + str(n_center))\n",
    "print(\"number of participants with no political orientations in control: \" + str(n_other))\n",
    "print(\"ETHNICITY\")\n",
    "n_white = sum(control[\"ethnicity\"] == 1)\n",
    "n_latino = sum(control[\"ethnicity\"] == 2)\n",
    "n_asian = sum(control[\"ethnicity\"] == 3)\n",
    "print(\"number of white participants in control: \" + str(n_white))\n",
    "print(\"number of hispanic/latino participants in control: \" + str(n_latino))\n",
    "print(\"number of asian participants in control: \" + str(n_asian))\n",
    "print(\"EDUCATION\")\n",
    "n_high_school = sum(control[\"achieved_education\"] == 2)\n",
    "n_bachelor = sum(control[\"achieved_education\"] == 3)\n",
    "n_master = sum(control[\"achieved_education\"] == 4)\n",
    "n_other = sum(control[\"achieved_education\"] == 8)\n",
    "n_high_school = n_high_school + n_other\n",
    "print(\"number of participants with a high school diploma in control: \" + str(n_high_school))\n",
    "print(\"number of participants with a bachelor diploma in control: \" + str(n_bachelor))\n",
    "print(\"number of participants with a master diploma in control: \" + str(n_master))"
   ],
   "metadata": {
    "collapsed": false
   }
  },
  {
   "cell_type": "code",
   "execution_count": 7,
   "outputs": [
    {
     "data": {
      "text/plain": "<Figure size 640x480 with 1 Axes>",
      "image/png": "[encoded data removed]"
     },
     "metadata": {},
     "output_type": "display_data"
    }
   ],
   "source": [
    "test = data.drop(data.index[data.participant_number <= 70])\n",
    "control = data.drop(data.index[data.participant_number > 70])\n",
    "n_veggie_ctrl = sum((control[\"sandwich\"] == 1) | (control[\"sandwich\"] == 2))\n",
    "n_meat_ctrl = sum((control[\"sandwich\"] == 3) | (control[\"sandwich\"] == 4))\n",
    "n_veggie_test = sum((test[\"sandwich\"] == 1) | (test[\"sandwich\"] == 2))\n",
    "n_meat_test = sum((test[\"sandwich\"] == 3) | (test[\"sandwich\"] == 4))\n",
    "\n",
    "fig, ax = plt.subplots()\n",
    "labels = ['vegetarian sandwich', 'meat sandwich']\n",
    "ctrl_sandwiches = [n_veggie_ctrl, n_meat_ctrl]\n",
    "test_sandwiches = [n_veggie_test, n_meat_test]\n",
    "\n",
    "std_error_ctrl = np.std(ctrl_sandwiches) / np.sqrt(len(ctrl_sandwiches))\n",
    "std_error_test = np.std(test_sandwiches) / np.sqrt(len(test_sandwiches))\n",
    "\n",
    "x = np.arange(len(labels))  # the label locations\n",
    "width = 0.35  # the width of the bars\n",
    "rects1 = ax.bar(x - width/2, ctrl_sandwiches, width, label='control', yerr=std_error_ctrl, capsize=4)\n",
    "rects2 = ax.bar(x + width/2, test_sandwiches, width, label='test', yerr=std_error_test, capsize=4)\n",
    "\n",
    "# Add some text for labels, title and custom x-axis tick labels, etc.\n",
    "ax.set_ylabel('Number of sandwiches')\n",
    "ax.set_title('sandwich choice in control and test group')\n",
    "ax.set_xticks(x)\n",
    "ax.set_xticklabels(labels)\n",
    "ax.legend()\n",
    "fig.tight_layout()\n",
    "plt.savefig(\"sandwich_average.png\")\n",
    "plt.show()"
   ],
   "metadata": {
    "collapsed": false
   }
  }
 ],
 "metadata": {
  "kernelspec": {
   "display_name": "Python 3",
   "language": "python",
   "name": "python3"
  },
  "language_info": {
   "codemirror_mode": {
    "name": "ipython",
    "version": 2
   },
   "file_extension": ".py",
   "mimetype": "text/x-python",
   "name": "python",
   "nbconvert_exporter": "python",
   "pygments_lexer": "ipython2",
   "version": "2.7.6"
  }
 },
 "nbformat": 4,
 "nbformat_minor": 0
}
