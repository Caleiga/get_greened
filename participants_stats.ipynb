{
 "cells": [
  {
   "cell_type": "code",
   "execution_count": 5,
   "metadata": {
    "collapsed": true
   },
   "outputs": [],
   "source": [
    "from data_named import data\n",
    "import matplotlib.pyplot as plt\n",
    "import numpy as np"
   ]
  },
  {
   "cell_type": "code",
   "execution_count": 62,
   "outputs": [
    {
     "name": "stdout",
     "output_type": "stream",
     "text": [
      "GENDER\n",
      "number of women: 10\n",
      "number of men: 8\n",
      "CONTROL VS VA\n",
      "number of control participants: 8\n",
      "number of tested participants: 10\n",
      "POLITICAL ORIENTATION\n",
      "number of left-leaning participants: 7\n",
      "number of right-leaning participants: 3\n",
      "number of centrists participants: 6\n",
      "number of participants with no political orientations: 2\n",
      "ETHNICITY\n",
      "number of white participants: 16\n",
      "number of hispanic/latino participants: 1\n",
      "number of asian participants: 1\n",
      "EDUCATION\n",
      "number of participants with a high school diploma: 4\n",
      "number of participants with a bachelor diploma: 12\n",
      "number of participants with a master diploma: 2\n"
     ]
    }
   ],
   "source": [
    "print(\"GENDER\")\n",
    "n_men = sum(data[\"gender\"] == 1)\n",
    "n_women = sum(data[\"gender\"] == 2)\n",
    "print(\"number of women: \" + str(n_women))\n",
    "print(\"number of men: \" + str(n_men))\n",
    "print(\"CONTROL VS VA\")\n",
    "n_control = sum(data[\"participant_number\"]<=70)\n",
    "n_VA = sum(data[\"participant_number\"]>70)\n",
    "print(\"number of control participants: \" + str(n_control))\n",
    "print(\"number of tested participants: \" + str(n_VA))\n",
    "print(\"POLITICAL ORIENTATION\")\n",
    "n_left = sum(data[\"political_orientation\"] == 1)\n",
    "n_center = sum(data[\"political_orientation\"] == 2)\n",
    "n_right = sum(data[\"political_orientation\"] == 3)\n",
    "n_other = sum(data[\"political_orientation\"] == 4)\n",
    "print(\"number of left-leaning participants: \" + str(n_left))\n",
    "print(\"number of right-leaning participants: \" + str(n_right))\n",
    "print(\"number of centrists participants: \" + str(n_center))\n",
    "print(\"number of participants with no political orientations: \" + str(n_other))\n",
    "print(\"ETHNICITY\")\n",
    "n_white = sum(data[\"ethnicity\"] == 1)\n",
    "n_latino = sum(data[\"ethnicity\"] == 2)\n",
    "n_asian = sum(data[\"ethnicity\"] == 3)\n",
    "print(\"number of white participants: \" + str(n_white))\n",
    "print(\"number of hispanic/latino participants: \" + str(n_latino))\n",
    "print(\"number of asian participants: \" + str(n_asian))\n",
    "print(\"EDUCATION\")\n",
    "n_high_school = sum(data[\"achieved_education\"] == 2)\n",
    "n_bachelor = sum(data[\"achieved_education\"] == 3)\n",
    "n_master = sum(data[\"achieved_education\"] == 4)\n",
    "n_other = sum(data[\"achieved_education\"] == 8)\n",
    "n_high_school = n_high_school + n_other\n",
    "print(\"number of participants with a high school diploma: \" + str(n_high_school))\n",
    "print(\"number of participants with a bachelor diploma: \" + str(n_bachelor))\n",
    "print(\"number of participants with a master diploma: \" + str(n_master))"
   ],
   "metadata": {
    "collapsed": false
   }
  },
  {
   "cell_type": "code",
   "execution_count": 9,
   "outputs": [
    {
     "data": {
      "text/plain": "count    18.000000\nmean     23.333333\nstd       2.376354\nmin      21.000000\n25%      22.000000\n50%      23.000000\n75%      24.000000\nmax      31.000000\nName: age, dtype: float64"
     },
     "execution_count": 9,
     "metadata": {},
     "output_type": "execute_result"
    }
   ],
   "source": [
    "data.age.describe()"
   ],
   "metadata": {
    "collapsed": false
   }
  },
  {
   "cell_type": "code",
   "execution_count": 20,
   "outputs": [
    {
     "data": {
      "text/plain": "<Figure size 640x480 with 1 Axes>",
      "image/png": "[encoded data removed]"
     },
     "metadata": {},
     "output_type": "display_data"
    }
   ],
   "source": [
    "control = data.drop(data.index[data.participant_number <= 70])\n",
    "test = data.drop(data.index[data.participant_number > 70])\n",
    "n_veggie_ctrl = sum((control[\"sandwich\"] == 1) | (control[\"sandwich\"] == 2))\n",
    "n_meat_ctrl = sum((control[\"sandwich\"] == 3) | (control[\"sandwich\"] == 4))\n",
    "n_veggie_test = sum((test[\"sandwich\"] == 1) | (test[\"sandwich\"] == 2))\n",
    "n_meat_test = sum((test[\"sandwich\"] == 3) | (test[\"sandwich\"] == 4))\n",
    "\n",
    "fig, ax = plt.subplots()\n",
    "labels = ['vegetarian', 'meat']\n",
    "ctrl_sandwiches = [n_veggie_ctrl, n_meat_ctrl]\n",
    "test_sandwiches = [n_veggie_test, n_meat_test]\n",
    "\n",
    "std_error_ctrl = np.std(ctrl_sandwiches) / np.sqrt(len(ctrl_sandwiches))\n",
    "std_error_test = np.std(test_sandwiches) / np.sqrt(len(test_sandwiches))\n",
    "\n",
    "x = np.arange(len(labels))  # the label locations\n",
    "width = 0.35  # the width of the bars\n",
    "rects1 = ax.bar(x - width/2, ctrl_sandwiches, width, label='control', yerr=std_error_ctrl, capsize=4)\n",
    "rects2 = ax.bar(x + width/2, test_sandwiches, width, label='test', yerr=std_error_test, capsize=4)\n",
    "\n",
    "# Add some text for labels, title and custom x-axis tick labels, etc.\n",
    "ax.set_ylabel('Number of sandwiches')\n",
    "ax.set_title('Sandwich choice in control and test group')\n",
    "ax.set_xticks(x)\n",
    "ax.set_xticklabels(labels)\n",
    "ax.legend()\n",
    "fig.tight_layout()\n",
    "plt.savefig(\"sandwich_average.png\")\n",
    "plt.show()"
   ],
   "metadata": {
    "collapsed": false
   }
  }
 ],
 "metadata": {
  "kernelspec": {
   "display_name": "Python 3",
   "language": "python",
   "name": "python3"
  },
  "language_info": {
   "codemirror_mode": {
    "name": "ipython",
    "version": 2
   },
   "file_extension": ".py",
   "mimetype": "text/x-python",
   "name": "python",
   "nbconvert_exporter": "python",
   "pygments_lexer": "ipython2",
   "version": "2.7.6"
  }
 },
 "nbformat": 4,
 "nbformat_minor": 0
}
